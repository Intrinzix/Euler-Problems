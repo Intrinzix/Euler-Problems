{
 "cells": [
  {
   "cell_type": "code",
   "execution_count": 2,
   "id": "67d3da51",
   "metadata": {},
   "outputs": [
    {
     "data": {
      "text/plain": [
       "233168"
      ]
     },
     "execution_count": 2,
     "metadata": {},
     "output_type": "execute_result"
    }
   ],
   "source": [
    "def P1(number):\n",
    "    \n",
    "    sum = 0 \n",
    "    for i in range(0,number):\n",
    "       if (i % 3 == 0 or i % 5 == 0):\n",
    "           sum += i\n",
    "     \n",
    "\n",
    "    return sum\n",
    "\n",
    "\n",
    "P1(1000)\n"
   ]
  },
  {
   "cell_type": "code",
   "execution_count": 3,
   "id": "8052a97b",
   "metadata": {},
   "outputs": [],
   "source": [
    "\"\"\"Problem 2\"\"\"\n",
    "\n",
    "fib = [1,2]\n"
   ]
  },
  {
   "cell_type": "code",
   "execution_count": 4,
   "id": "1df5da27",
   "metadata": {},
   "outputs": [
    {
     "data": {
      "text/plain": [
       "4613732"
      ]
     },
     "execution_count": 4,
     "metadata": {},
     "output_type": "execute_result"
    }
   ],
   "source": [
    "first_term = 1\n",
    "second_term = 2\n",
    "sum = 2\n",
    "while (second_term < 4000000):\n",
    "    next_term = first_term + second_term\n",
    "    if (next_term % 2 == 0):\n",
    "        sum += next_term\n",
    "    first_term = second_term\n",
    "    second_term = next_term        \n",
    "sum    "
   ]
  },
  {
   "cell_type": "code",
   "execution_count": 5,
   "id": "d9eedb90",
   "metadata": {},
   "outputs": [
    {
     "name": "stdout",
     "output_type": "stream",
     "text": [
      "6857\n"
     ]
    }
   ],
   "source": [
    "def largest_prime_factor(n):\n",
    "    factor = 2\n",
    "    while factor * factor <= n:\n",
    "        if n % factor == 0:\n",
    "            n //= factor\n",
    "        else:\n",
    "            factor += 1\n",
    "    return n  # what's left is the largest prime factor\n",
    "\n",
    "# Solve for the specific case\n",
    "number = 600851475143\n",
    "result = largest_prime_factor(number)\n",
    "print(result)\n",
    "    "
   ]
  },
  {
   "cell_type": "code",
   "execution_count": 6,
   "id": "fb96c38f",
   "metadata": {},
   "outputs": [
    {
     "data": {
      "text/plain": [
       "(906609, (913, 993))"
      ]
     },
     "execution_count": 6,
     "metadata": {},
     "output_type": "execute_result"
    }
   ],
   "source": [
    "def is_palindrome(num):\n",
    "\n",
    "    return str(num) == str(num)[::-1]\n",
    "\n",
    "# Initialize the largest palindrome\n",
    "largest_palindrome = 0\n",
    "\n",
    "# Loop through all 3-digit numbers\n",
    "for i in range(100, 1000):\n",
    "    for j in range(i, 1000):  # Start from i to avoid duplicate calculations\n",
    "        product = i * j\n",
    "        if is_palindrome(product) and product > largest_palindrome:\n",
    "            largest_palindrome = product\n",
    "            factors = (i, j)\n",
    "\n",
    "largest_palindrome, factors"
   ]
  },
  {
   "cell_type": "code",
   "execution_count": 7,
   "id": "1c003da5",
   "metadata": {},
   "outputs": [
    {
     "name": "stdout",
     "output_type": "stream",
     "text": [
      "232792560\n"
     ]
    }
   ],
   "source": [
    "import math\n",
    "from functools import reduce\n",
    "\n",
    "def lcm(a, b):\n",
    "    return a * b // math.gcd(a, b)\n",
    "\n",
    "def lcm_range(n):\n",
    "    return reduce(lcm, range(1, n + 1))\n",
    "\n",
    "# Solve for numbers 1 to 20\n",
    "result = lcm_range(20)\n",
    "print(result)\n"
   ]
  },
  {
   "cell_type": "code",
   "execution_count": 8,
   "id": "e7bf0489",
   "metadata": {},
   "outputs": [],
   "source": [
    "\n",
    "def is_prime(n):\n",
    "    if n < 2:\n",
    "        return False\n",
    "    for i in range(2, int(math.isqrt(n)) + 1):\n",
    "        if n % i == 0:\n",
    "            return False\n",
    "    return True"
   ]
  },
  {
   "cell_type": "markdown",
   "id": "f97498b9",
   "metadata": {},
   "source": []
  },
  {
   "cell_type": "code",
   "execution_count": 9,
   "id": "659476b1",
   "metadata": {},
   "outputs": [
    {
     "data": {
      "text/plain": [
       "25164150"
      ]
     },
     "execution_count": 9,
     "metadata": {},
     "output_type": "execute_result"
    }
   ],
   "source": [
    "def P6(number):\n",
    "    \n",
    "    sum_of_squares = 0\n",
    "    square_of_sums = 0\n",
    "    for i in range(0,number+1):\n",
    "        sum_of_squares += i * i\n",
    "        square_of_sums += i\n",
    "        \n",
    "    square_of_sums = square_of_sums *square_of_sums\n",
    "    \n",
    "    difference = square_of_sums - sum_of_squares  \n",
    "     \n",
    "    \n",
    "    return difference\n",
    "\n",
    "P6(100) "
   ]
  },
  {
   "cell_type": "code",
   "execution_count": 10,
   "id": "4b3a0a1d",
   "metadata": {},
   "outputs": [
    {
     "name": "stdout",
     "output_type": "stream",
     "text": [
      "104743\n"
     ]
    }
   ],
   "source": [
    "def find_nth_prime(n):\n",
    "    count = 0\n",
    "    candidate = 2\n",
    "    while True:\n",
    "        if is_prime(candidate):\n",
    "            count += 1\n",
    "            if count == n:\n",
    "                return candidate\n",
    "        candidate += 1\n",
    "\n",
    "# Solve for the 10,001st prime\n",
    "result = find_nth_prime(10001)\n",
    "print(result)"
   ]
  },
  {
   "cell_type": "code",
   "execution_count": 11,
   "id": "1690c27e",
   "metadata": {},
   "outputs": [
    {
     "name": "stdout",
     "output_type": "stream",
     "text": [
      "31875000\n"
     ]
    }
   ],
   "source": [
    "def find_pythagorean_triplet(sum_total):\n",
    "    for a in range(1, sum_total):\n",
    "        for b in range(a + 1, sum_total - a):\n",
    "            c = sum_total - a - b\n",
    "            if a * a + b * b == c * c:\n",
    "                return a * b * c\n",
    "\n",
    "# Solve for the specific case\n",
    "result = find_pythagorean_triplet(1000)\n",
    "print(result)\n",
    "\n",
    "    \n",
    "    "
   ]
  },
  {
   "cell_type": "code",
   "execution_count": 12,
   "id": "0c83a663",
   "metadata": {},
   "outputs": [
    {
     "data": {
      "text/plain": [
       "142913828922"
      ]
     },
     "execution_count": 12,
     "metadata": {},
     "output_type": "execute_result"
    }
   ],
   "source": [
    "def P10():\n",
    "\n",
    "    sum = 0\n",
    "    for i in range(2,2000000):\n",
    "        if is_prime(i):\n",
    "            sum += i\n",
    "            \n",
    "        \n",
    "    return sum\n",
    "\n",
    "P10()"
   ]
  },
  {
   "cell_type": "code",
   "execution_count": 15,
   "id": "39189d10",
   "metadata": {},
   "outputs": [
    {
     "name": "stdout",
     "output_type": "stream",
     "text": [
      "76576500 576\n"
     ]
    }
   ],
   "source": [
    "def get_triangle_number(t):\n",
    "    return t*(t+1)//2\n",
    "\n",
    "\n",
    "def get_divisors(n):\n",
    "    divisors = 1\n",
    "    i = 2\n",
    "    while i * i <= n:\n",
    "        count = 0\n",
    "        while n % i == 0:\n",
    "            n //= i\n",
    "            count += 1\n",
    "        if count > 0:\n",
    "            divisors *= (count + 1)\n",
    "        i += 1\n",
    "    if n > 1:  # Remaining prime factor\n",
    "        divisors *= 2\n",
    "    return divisors\n",
    "        \n",
    "def P12():\n",
    "    i = 1\n",
    "    while True:\n",
    "        number = get_triangle_number(i)\n",
    "        divisors = get_divisors(number)\n",
    "        if divisors > 500:\n",
    "            print(number, divisors)\n",
    "            break\n",
    "        \n",
    "        i += 1\n",
    "P12() \n",
    "        \n",
    "    \n",
    "    \n"
   ]
  },
  {
   "cell_type": "code",
   "execution_count": 13,
   "id": "f8d9acbd",
   "metadata": {},
   "outputs": [],
   "source": [
    "def P13():   \n",
    "    with open('P13', 'r') as file:\n",
    "        data = file.read().split('\\n')\n",
    "\n",
    "    sum = 0     \n",
    "    for i in data:\n",
    "        sum += int(i)\n",
    "        \n",
    "    a = str(sum)[:10]\n",
    "    return a\n",
    "\n"
   ]
  },
  {
   "cell_type": "code",
   "execution_count": null,
   "id": "da664518",
   "metadata": {},
   "outputs": [
    {
     "data": {
      "text/plain": [
       "837799"
      ]
     },
     "execution_count": 14,
     "metadata": {},
     "output_type": "execute_result"
    }
   ],
   "source": [
    "def Collatz(n):\n",
    "    if n % 2 == 0:\n",
    "        return n // 2\n",
    "    else:\n",
    "        return 3 * n + 1\n",
    "\n",
    "def P14(limit):\n",
    "    num = 0\n",
    "    greatest_length = 0\n",
    "\n",
    "    for i in range(1,limit):\n",
    "        current_length = 1\n",
    "        n = i\n",
    "        while n != 1:\n",
    "            n = Collatz(n)\n",
    "            current_length += 1\n",
    "            \n",
    "        if current_length > greatest_length:\n",
    "            greatest_length = current_length\n",
    "            num = i\n",
    "    return num\n",
    "P14(1000000)    "
   ]
  },
  {
   "cell_type": "code",
   "execution_count": null,
   "id": "2b7e22ec",
   "metadata": {},
   "outputs": [
    {
     "data": {
      "text/plain": [
       "137846528820.0"
      ]
     },
     "execution_count": 17,
     "metadata": {},
     "output_type": "execute_result"
    }
   ],
   "source": [
    "def P15():\n",
    "    answer = math.factorial(40) / ( math.factorial(20) * math.factorial(20))\n",
    "    return answer\n",
    "\n",
    "P15()\n"
   ]
  },
  {
   "cell_type": "code",
   "execution_count": null,
   "id": "02b2da7f",
   "metadata": {},
   "outputs": [
    {
     "data": {
      "text/plain": [
       "1366"
      ]
     },
     "execution_count": 78,
     "metadata": {},
     "output_type": "execute_result"
    }
   ],
   "source": [
    "    \n",
    "def P16():\n",
    "    n = 2 **1000\n",
    "    total = 0\n",
    "    for c in str(n):\n",
    "        total += int(c)\n",
    "        \n",
    "    return total\n",
    "    \n",
    "P16()"
   ]
  },
  {
   "cell_type": "code",
   "execution_count": 35,
   "id": "5bee5e75",
   "metadata": {},
   "outputs": [
    {
     "data": {
      "text/plain": [
       "[['75'],\n",
       " ['95', '64'],\n",
       " ['17', '47', '82'],\n",
       " ['18', '35', '87', '10'],\n",
       " ['20', '04', '82', '47', '65'],\n",
       " ['19', '01', '23', '75', '03', '34'],\n",
       " ['88', '02', '77', '73', '07', '63', '67'],\n",
       " ['99', '65', '04', '28', '06', '16', '70', '92'],\n",
       " ['41', '41', '26', '56', '83', '40', '80', '70', '33'],\n",
       " ['41', '48', '72', '33', '47', '32', '37', '16', '94', '29'],\n",
       " ['53', '71', '44', '65', '25', '43', '91', '52', '97', '51', '14'],\n",
       " ['70', '11', '33', '28', '77', '73', '17', '78', '39', '68', '17', '57'],\n",
       " ['91',\n",
       "  '71',\n",
       "  '52',\n",
       "  '38',\n",
       "  '17',\n",
       "  '14',\n",
       "  '91',\n",
       "  '43',\n",
       "  '58',\n",
       "  '50',\n",
       "  '27',\n",
       "  '29',\n",
       "  '48'],\n",
       " ['63',\n",
       "  '66',\n",
       "  '04',\n",
       "  '68',\n",
       "  '89',\n",
       "  '53',\n",
       "  '67',\n",
       "  '30',\n",
       "  '73',\n",
       "  '16',\n",
       "  '69',\n",
       "  '87',\n",
       "  '40',\n",
       "  '31'],\n",
       " ['04',\n",
       "  '62',\n",
       "  '98',\n",
       "  '27',\n",
       "  '23',\n",
       "  '09',\n",
       "  '70',\n",
       "  '98',\n",
       "  '73',\n",
       "  '93',\n",
       "  '38',\n",
       "  '53',\n",
       "  '60',\n",
       "  '04',\n",
       "  '23']]"
      ]
     },
     "execution_count": 35,
     "metadata": {},
     "output_type": "execute_result"
    }
   ],
   "source": [
    "with open('P18','r') as file:\n",
    "    triangle = file.read().split('\\n')\n",
    "   \n",
    "triangle_array = []    \n",
    "\n",
    "for t in triangle:\n",
    "    triangle_array.append(t.split())\n",
    "\n",
    "\n",
    "triangle_array\n",
    "    "
   ]
  },
  {
   "cell_type": "code",
   "execution_count": 86,
   "id": "2dfc7850",
   "metadata": {},
   "outputs": [
    {
     "data": {
      "text/plain": [
       "648"
      ]
     },
     "execution_count": 86,
     "metadata": {},
     "output_type": "execute_result"
    }
   ],
   "source": [
    "def P20():\n",
    "    n = 1\n",
    "    for i in range(1,101):\n",
    "        n = n * i \n",
    "        \n",
    "    s = 0\n",
    "    for c in str(n):\n",
    "        s += int(c)\n",
    "        \n",
    "    return s\n",
    "\n",
    "P20()"
   ]
  },
  {
   "cell_type": "code",
   "execution_count": 188,
   "id": "fe6882c8",
   "metadata": {},
   "outputs": [
    {
     "data": {
      "text/plain": [
       "'max primes: 71, a = -61, b = 971, ab = -59231'"
      ]
     },
     "execution_count": 188,
     "metadata": {},
     "output_type": "execute_result"
    }
   ],
   "source": [
    "def quadratic(n,a,b):\n",
    "    ans = n*n + a*n + b \n",
    "    return ans\n",
    "    \n",
    "\n",
    "    \n",
    "def P27():\n",
    "    max_n = 0\n",
    "    a_value = 0\n",
    "    b_value = 0\n",
    "    for a in range(-999,1000):\n",
    "        for b in range(-1000,1001):\n",
    "            n = 0    \n",
    "            while True:\n",
    "                result = quadratic(n,a,b)\n",
    "                if not is_prime(result):\n",
    "                    if n > max_n:\n",
    "                        max_n = n\n",
    "                        a_value = a\n",
    "                        b_value = b\n",
    "                    break\n",
    "                n +=1\n",
    "                \n",
    "    return f\"max primes: {max_n}, a = {a_value}, b = {b_value}, ab = {a_value * b_value}\"\n",
    "                \n",
    "P27()"
   ]
  },
  {
   "cell_type": "code",
   "execution_count": 229,
   "id": "1482a774",
   "metadata": {},
   "outputs": [
    {
     "name": "stdout",
     "output_type": "stream",
     "text": [
      "index of fib = 4782\n"
     ]
    }
   ],
   "source": [
    "def P25():    \n",
    "    fib = [0,1]\n",
    "    index = 1\n",
    "\n",
    "    while True:\n",
    "        fib = [fib[-1],fib[-1] + fib[-2]]\n",
    "        index += 1\n",
    "        \n",
    "        if len(str(fib[-1])) > 999:\n",
    "            print(f\"index of fib = {index}\")\n",
    "            break \n",
    "\n",
    "P25()    \n",
    "\n",
    "\n",
    "\n"
   ]
  },
  {
   "cell_type": "code",
   "execution_count": 239,
   "id": "6484d62b",
   "metadata": {},
   "outputs": [
    {
     "name": "stdout",
     "output_type": "stream",
     "text": [
      "669171001\n"
     ]
    }
   ],
   "source": [
    "def P28():\n",
    "    \"\"\"\n",
    "    find equation for sum of the corners\n",
    "    \"\"\"\n",
    "    def eqn(dimension): #x != 1\n",
    "        dim = dimension\n",
    "        sum = 4 * dim * dim - 6 * dim + 6\n",
    "        return sum\n",
    "    \n",
    "    sum = 1\n",
    "    for i in range(3,1002,2):\n",
    "\n",
    "        sum += eqn(i)\n",
    "    print(sum)\n",
    "         \n",
    "P28()    \n"
   ]
  },
  {
   "cell_type": "code",
   "execution_count": null,
   "id": "af7d7cd5",
   "metadata": {},
   "outputs": [],
   "source": []
  }
 ],
 "metadata": {
  "kernelspec": {
   "display_name": "Python 3",
   "language": "python",
   "name": "python3"
  },
  "language_info": {
   "codemirror_mode": {
    "name": "ipython",
    "version": 3
   },
   "file_extension": ".py",
   "mimetype": "text/x-python",
   "name": "python",
   "nbconvert_exporter": "python",
   "pygments_lexer": "ipython3",
   "version": "3.9.7"
  }
 },
 "nbformat": 4,
 "nbformat_minor": 5
}
